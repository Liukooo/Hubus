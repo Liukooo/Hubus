{
 "cells": [
  {
   "cell_type": "markdown",
   "metadata": {},
   "source": [
    "# SoftPython Project\n",
    "\n",
    "\n",
    "## HUBUS\n",
    "\n",
    "\n",
    "\n",
    "NOME PARTECIPANTI: Anesi Michelle, Borrelli Luca, Michelotti Tommaso e Morelato Alessandro\n",
    "\n",
    "DATA: dal 03/09/2019 al 10/09/2019\n",
    "\n",
    "\n",
    "## Introduzione\n",
    "\n",
    "* Obiettivi: comprensione delle dinamiche di afflusso dei passeggeri sugli autobus e creazione di un metodo che ottimizzi il numero di corse e tragitti.\n",
    "\n",
    "\n",
    "* Risultati attesi: realizzazione di una webapp che includa widgets e grafici, dove il cliente possa cercare e visualizzare linee e orari degli autobus da cui vuole estrapolare delle analisi.\n",
    "\n",
    "\n",
    "* Target: il progetto è in primis rivolto alle aziende di mezzi di trasporto pubblico, affinchè possano ottimizzare il loro servizio rendendo tangibile dove e quando esiste un'inefficenza.\n",
    "\n",
    "\n",
    "* Descrizione delle attività che sono state svolte:\n",
    "```\n",
    "    Analisi: estrapolazione dai dati di connessioni logiche per comprendere le dinamiche di afflusso dei passeggeri\n",
    "    Pulizia: eliminazione elementi sbagliati \n",
    "    Presentazione: esposizione del prodotto finale\n",
    "        slides\n",
    "        demo \n",
    "```\n",
    "* Librerie Python: csv; datetime; matplotlib; numpy; ipywidgets; iPython.display e bqplot."
   ]
  },
  {
   "cell_type": "markdown",
   "metadata": {},
   "source": [
    "\n",
    "## Sorgenti dati\n",
    "\n",
    "U-Hopper ha raccolto i dati necessari allo sviluppo del progetto in due modi: attraverso un sensore che ha rilevato gli smartphone dei passeggeri e attraverso un addetto che ha tenuto il conto di ogni persona salita e discesa.\n",
    "\n",
    "- Nome origine: “Rilevazioni_manuali”\n",
    "- Econding: utf-8\n",
    "- Dimensione: 101 KB\n",
    " \n",
    " \n",
    "- Nome origine: “Rilevazioni_sensori”\n",
    "- Encoding: utf-8\n",
    "- Dimensione: 6145 KB\n",
    " \n",
    "\n",
    "- Schemi dei dati: \n",
    "    - CSV: \n",
    "         - \"Rilevazioni_manuali\": Line, Timestamp, Passengers, Gone_up, Went_down (interi);\n",
    "         - \"Rilevazioni_sensori\": Line (intero), Timestamp (float), ID_Device (stringa).\n",
    "\n",
    "\n",
    "\n",
    "Qualche dato di esempio:\n",
    "```\n",
    "Line    Timestamp   Passengers  Gone_up  Went_down\n",
    "6       1542870352   17          2        1\n",
    "6       1542870960   12          0        2\n",
    "9       1542873885   5           0        0\n",
    "9       1542873976   0           0        5\n",
    "```\n",
    "```\n",
    "Line    Timestamp                ID_Device\n",
    "11      1542859801.14977         53c5a73e-b1a3-5618-81f2-ec0d8a24cb10\n",
    "11      1542859805.09879         53c5a73e-b1a3-5618-81f2-ec0d8a24cb10\n",
    "6       1542861382.94801         538072a4-722b-5e5a-afdd-46bcd9626245\n",
    "6       1542861384.6065          5656b67a-67d3-5b31-8e53-637b1ef501e7\n",
    "```"
   ]
  },
  {
   "cell_type": "markdown",
   "metadata": {},
   "source": [
    "\n",
    "## Analisi\n",
    "\n",
    "Sono state estrapolate dai dati delle connessioni logiche per comprendere le dinamiche di afflusso dei passeggeri, osservando la quantità di passeggeri giorno per giorno nelle diverse linee e comprendendo nei vari singoli casi se si presentano anomalie.\n",
    "\n",
    "- Nei \"Rilevazioni_manuali\" il numero di righe original: 5345.\n",
    "\n",
    "\n",
    "- Nei \"Rilevazioni_sensori\" il numero di righe originali: 109976.\n",
    "\n",
    "\n",
    "- I rilevamenti sono stati raggruppati e suddivisi per linee e giorni:\n",
    "     - Sono stati suddivisi i dati in linee per rendere più facile la distinzione dalla corsa dove potrebbero essere necessarie delle modifiche;\n",
    "     - Sono stati suddivisi i dati in giorni per rendere più visibile la distinzione in quale orario è necessario un miglioramento.\n",
    "     \n",
    "     \n",
    "- Le librerie utilizzate sono state inserite nel Documento google zippato \"Requirements.txt\". Utilizzando la seguente stringa \"python3 -m pip install -r requirements.txt\" si possono installare le librerie su un’altro dispositivo.\n",
    "\n",
    "\n",
    "- I numeri negativi rilevati manualmente erano 11 su un totale di 5345.\n",
    "     \n",
    "\n",
    "- Si è compreso che i dati rilevati manualemente da un operatore sono migliori, sia dal punto di vista della pulizia, è stato più semplice rispetto a quelli presi dai sensori, sia dal punto di vista della precisione dei rilevamenti."
   ]
  },
  {
   "cell_type": "markdown",
   "metadata": {},
   "source": [
    "## Pulizia  \n",
    "\n",
    "I dati necessitano di essere filtrati e riordinati in modo che possano essere letti dall'uomo e anche dal software in modo più chiaro e comprensibile. Sono state utilizzate delle librerie apposite di Python (\"csv\" e \"datetime\").\n",
    "\n",
    "- I dati relativi agli orari sono stati registrati in datastamp (Es. 1542870352) e sono stati modificati all’orario tradizionale (Es. 22/11/2018 11:23:59) tramite la libreria \"datetime\".\n",
    "\n",
    "\n",
    "- I valori negativi trovati nei rilevamenti sono stati reputati come inutilizzabili e sono stati ignorati.\n",
    "\n",
    "\n",
    "- La suddivisione dei dati per giorno, ora e linea è stata effettuata con la seguente stringa: \"with open ('Sen_linea_'+str(Linea)+str(Data)+'.csv', 'a') as nuovo:\"."
   ]
  },
  {
   "cell_type": "markdown",
   "metadata": {},
   "source": [
    "## Presentazione\n",
    "\n",
    "L'ultimo step riguardante il progetto è la presentazione. Contiene un'introduzione dove vegnono esposti gli obiettivi, i problemi, le varie fasi del progetto e una dimostrazione della demo della webapp nella quale viene mostrato il risultato finale.\n",
    "\n",
    "### Slides\n",
    "\n",
    "È stata redatta una breve Presentazione google per introduzione e presentare il progetto. \n",
    "\n",
    "### Demo\n",
    "\n",
    "È stata creata una demo su un foglio Jupyter che viene esposta per rendere facile la comprensione dei dati."
   ]
  },
  {
   "cell_type": "markdown",
   "metadata": {},
   "source": [
    "## Problematiche riscontrate\n",
    "\n",
    "Durante lo sviluppo del progetto sono state incontrate alcuni ostacoli che sono stati superati con successo.\n",
    "\n",
    "- La conversione dei datastamp in data tradizionale ha richiesto tempo e l'apprendimento della libreria \"datetime\".\n",
    "\n",
    "\n",
    "- L'assimilizzazione di nuove librerie e comandi per la creazione della webapp, grafici e widget.\n",
    "\n",
    "\n",
    "- Trovare un modo per contare in \"Rilevazioni_sensori\" i passeggeri a bordo del mezzo a partire dagli ID dei device."
   ]
  },
  {
   "cell_type": "markdown",
   "metadata": {},
   "source": [
    "## Conclusioni\n",
    "\n",
    "L'obiettivo prefissato è stato raggiunto: aprendo il file Jupyter è possibile cercare e visualizzare widget e grafici utili alla comprensione delle dinamiche di afflusso dei passeggeri sugli autobus.\n",
    "\n",
    "I possibili sviluppi futuri potrebbero incrementare l'utilità di questo progetto creando un sistema che connetta a livello satellitare il sensore di rilevamento con l'uffico di logistica dell'azienda in questione, in modo da rendere disponibile in tempo reale la quantità di passeggeri a bordo di un determinato mezzo.\n",
    "\n"
   ]
  },
  {
   "cell_type": "code",
   "execution_count": null,
   "metadata": {},
   "outputs": [],
   "source": []
  }
 ],
 "metadata": {
  "kernelspec": {
   "display_name": "Python 3",
   "language": "python",
   "name": "python3"
  },
  "language_info": {
   "codemirror_mode": {
    "name": "ipython",
    "version": 3
   },
   "file_extension": ".py",
   "mimetype": "text/x-python",
   "name": "python",
   "nbconvert_exporter": "python",
   "pygments_lexer": "ipython3",
   "version": "3.7.3"
  },
  "toc": {
   "base_numbering": 1,
   "nav_menu": {},
   "number_sections": false,
   "sideBar": true,
   "skip_h1_title": false,
   "title_cell": "Table of Contents",
   "title_sidebar": "Contents",
   "toc_cell": false,
   "toc_position": {},
   "toc_section_display": true,
   "toc_window_display": true
  }
 },
 "nbformat": 4,
 "nbformat_minor": 2
}
